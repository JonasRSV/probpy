{
 "cells": [
  {
   "cell_type": "code",
   "execution_count": 10,
   "metadata": {},
   "outputs": [
    {
     "data": {
      "text/plain": [
       "array([-0.14963336,  0.76276656,  0.43597634,  1.05922784,  0.94386815,\n",
       "        0.44491035,  0.97120413,  1.02942417,  1.38506995,  1.33804797])"
      ]
     },
     "execution_count": 10,
     "metadata": {},
     "output_type": "execute_result"
    }
   ],
   "source": [
    "import probpy as pp\n",
    "import numpy as np\n",
    "\n",
    "rv = pp.normal.med(mu=2, sigma=2)\n",
    "\n",
    "rv.sample(shape=2000)\n",
    "\n",
    "lv = pp.unilinear.med(variables=np.random.rand(2), sigma=0.1)\n",
    "\n",
    "lv.sample(np.linspace(0, 1, 10))"
   ]
  }
 ],
 "metadata": {
  "kernelspec": {
   "display_name": "Python 3",
   "language": "python",
   "name": "python3"
  },
  "language_info": {
   "codemirror_mode": {
    "name": "ipython",
    "version": 3
   },
   "file_extension": ".py",
   "mimetype": "text/x-python",
   "name": "python",
   "nbconvert_exporter": "python",
   "pygments_lexer": "ipython3",
   "version": "3.7.4"
  }
 },
 "nbformat": 4,
 "nbformat_minor": 4
}
