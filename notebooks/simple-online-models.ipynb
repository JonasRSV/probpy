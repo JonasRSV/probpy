{
 "cells": [
  {
   "cell_type": "markdown",
   "metadata": {},
   "source": [
    "- [fairness of coin](#Learning-fairness-of-coin)\n",
    "- [Proportions of colors in deck](#Learning-Proportions-of-colors-in-deck)\n",
    "- [a noisy parameter](#Learning-a-noisy-parameter)\n",
    "- [First Success](#First-success)\n",
    "- [Average lifetime](#Average-lifetime)"
   ]
  },
  {
   "cell_type": "markdown",
   "metadata": {},
   "source": [
    "fairness of coin\n",
    "---"
   ]
  },
  {
   "cell_type": "code",
   "execution_count": 6,
   "metadata": {},
   "outputs": [
    {
     "name": "stdout",
     "output_type": "stream",
     "text": [
      "0.42857142857142855\n",
      "0.5\n",
      "0.5555555555555556\n",
      "0.5\n",
      "0.5454545454545454\n",
      "0.5833333333333334\n",
      "0.6153846153846154\n",
      "0.5714285714285714\n",
      "0.5333333333333333\n",
      "0.5625\n",
      "0.5882352941176471\n",
      "0.6111111111111112\n",
      "0.631578947368421\n",
      "0.65\n",
      "0.6666666666666666\n",
      "0.6363636363636364\n",
      "0.6521739130434783\n",
      "0.6666666666666666\n",
      "0.68\n",
      "0.6923076923076923\n"
     ]
    }
   ],
   "source": [
    "import probpy as pp\n",
    "\n",
    "coin = pp.bernoulli.med(probability=0.7)\n",
    "\n",
    "prior = pp.beta.med(a=3.0, b=3.0) # 50 50 prior\n",
    "likelihood = pp.bernoulli.med() # likelihood is a bernoulli\n",
    "\n",
    "for _ in range(20):\n",
    "    outcome = coin.sample()\n",
    "    prior = pp.parameter_posterior(outcome, likelihood=likelihood, priors=prior)\n",
    "    \n",
    "    prediction = pp.predictive_posterior(likelihood=likelihood, priors=prior)\n",
    "    \n",
    "    print(prediction.probability)"
   ]
  },
  {
   "cell_type": "markdown",
   "metadata": {},
   "source": [
    "Proportions of colors in a deck\n",
    "---"
   ]
  },
  {
   "cell_type": "code",
   "execution_count": 7,
   "metadata": {},
   "outputs": [
    {
     "name": "stdout",
     "output_type": "stream",
     "text": [
      "[0.22222222 0.33333333 0.22222222 0.22222222]\n",
      "[0.21052632 0.21052632 0.26315789 0.31578947]\n",
      "[0.13793103 0.13793103 0.4137931  0.31034483]\n",
      "[0.15384615 0.1025641  0.46153846 0.28205128]\n",
      "[0.18367347 0.12244898 0.42857143 0.26530612]\n",
      "[0.15254237 0.11864407 0.47457627 0.25423729]\n",
      "[0.13043478 0.14492754 0.49275362 0.23188406]\n",
      "[0.11392405 0.15189873 0.46835443 0.26582278]\n",
      "[0.11235955 0.14606742 0.47191011 0.26966292]\n",
      "[0.11111111 0.14141414 0.47474747 0.27272727]\n",
      "[0.11009174 0.1559633  0.47706422 0.25688073]\n",
      "[0.11764706 0.16806723 0.4789916  0.23529412]\n",
      "[0.13178295 0.1627907  0.48062016 0.2248062 ]\n",
      "[0.12230216 0.16546763 0.48201439 0.23021583]\n",
      "[0.12080537 0.15436242 0.48322148 0.24161074]\n",
      "[0.11949686 0.1572327  0.48427673 0.23899371]\n",
      "[0.1183432  0.16568047 0.46745562 0.24852071]\n",
      "[0.12290503 0.16201117 0.46368715 0.25139665]\n",
      "[0.12698413 0.15873016 0.47619048 0.23809524]\n",
      "[0.13065327 0.16080402 0.47236181 0.2361809 ]\n"
     ]
    }
   ],
   "source": [
    "import numpy as np\n",
    "\n",
    "card_probabilities = np.array([0.1, 0.2, 0.5, 0.2])\n",
    "\n",
    "cards = pp.categorical.med(probabilities=card_probabilities)\n",
    "\n",
    "prior = pp.dirichlet.med(alpha=np.ones(4) * 3)\n",
    "likelihood = pp.categorical.med()\n",
    "\n",
    "for i in range(200):\n",
    "    card = cards.sample()    \n",
    "    prior = pp.parameter_posterior(card, likelihood=likelihood, priors=prior)\n",
    "        \n",
    "    if i % 10 == 0:\n",
    "        print(pp.mode(prior))"
   ]
  },
  {
   "cell_type": "markdown",
   "metadata": {},
   "source": [
    "a noisy parameter\n",
    "---"
   ]
  },
  {
   "cell_type": "code",
   "execution_count": 10,
   "metadata": {},
   "outputs": [
    {
     "name": "stdout",
     "output_type": "stream",
     "text": [
      "Mu estimate 1.3537679150302209 Sigma estimate 1.3935074473064124\n",
      "Mu estimate 3.3559254208507268 Sigma estimate 11.832128182351326\n",
      "Mu estimate 3.4102421316098126 Sigma estimate 11.837232486579182\n",
      "Mu estimate 4.119394743363548 Sigma estimate 11.90779938821417\n",
      "Mu estimate 4.1388939098204105 Sigma estimate 10.66584918335366\n",
      "Mu estimate 4.52814078735935 Sigma estimate 10.367748091597008\n",
      "Mu estimate 4.508798756744122 Sigma estimate 10.683550166781572\n",
      "Mu estimate 4.741656910057145 Sigma estimate 11.119535935098222\n",
      "Mu estimate 4.840927479082687 Sigma estimate 10.46177229260767\n",
      "Mu estimate 4.8143281712765145 Sigma estimate 10.179319421808534\n"
     ]
    }
   ],
   "source": [
    "parameter = pp.normal.med(mu=5.0, sigma=10.0)\n",
    "\n",
    "prior = pp.normal_inverse_gamma.med(mu=1.0, lam=5.0, a=4.0, b=3.0)\n",
    "likelihood = pp.normal.med()\n",
    "\n",
    "for i in range(100):\n",
    "    sample = parameter.sample()\n",
    "    \n",
    "    prior = pp.parameter_posterior(sample, likelihood=likelihood, priors=prior)\n",
    "    \n",
    "    if i % 10 == 0:\n",
    "        print(\"Mu estimate\", prior.mu, \"Sigma estimate\", prior.b / (prior.a - 1))\n"
   ]
  },
  {
   "cell_type": "markdown",
   "metadata": {},
   "source": [
    "First success\n",
    "---"
   ]
  },
  {
   "cell_type": "code",
   "execution_count": 11,
   "metadata": {},
   "outputs": [
    {
     "name": "stdout",
     "output_type": "stream",
     "text": [
      "First success probability 0.2222222222222222\n",
      "First success probability 0.10619469026548674\n",
      "First success probability 0.1301775147928994\n",
      "First success probability 0.11636363636363636\n",
      "First success probability 0.09882352941176471\n",
      "First success probability 0.09302325581395349\n",
      "First success probability 0.09597523219814241\n",
      "First success probability 0.10013908205841447\n",
      "First success probability 0.10148514851485149\n",
      "First success probability 0.1050228310502283\n"
     ]
    }
   ],
   "source": [
    "first_success = pp.geometric.med(probability=0.1)\n",
    "\n",
    "prior = pp.beta.med(a=2.0, b=2.0)\n",
    "likelihood = pp.geometric.med()\n",
    "\n",
    "for i in range(100):\n",
    "    success_on = first_success.sample()\n",
    "    \n",
    "    prior = pp.parameter_posterior(success_on, likelihood=likelihood, priors=prior)\n",
    "    \n",
    "    if i % 10 == 0:\n",
    "        print(\"First success probability\", 1 / (prior.b / (prior.a - 1)))"
   ]
  },
  {
   "cell_type": "markdown",
   "metadata": {},
   "source": [
    "Average lifetime\n",
    "---"
   ]
  },
  {
   "cell_type": "code",
   "execution_count": 16,
   "metadata": {},
   "outputs": [
    {
     "name": "stdout",
     "output_type": "stream",
     "text": [
      "Average lifetime 1.4145571492678697\n",
      "Average lifetime 2.190013982046198\n",
      "Average lifetime 2.405062823866708\n",
      "Average lifetime 2.5786006113860087\n",
      "Average lifetime 2.890764323337298\n",
      "Average lifetime 2.8993659973584083\n",
      "Average lifetime 2.998504333618035\n",
      "Average lifetime 2.9872675093627308\n",
      "Average lifetime 3.0374968247769902\n",
      "Average lifetime 2.9954023788069217\n"
     ]
    }
   ],
   "source": [
    "product = pp.exponential.med(lam=3.0)\n",
    "\n",
    "prior = pp.gamma.med(a=2.0, b=2.0)\n",
    "likelihood = pp.exponential.med()\n",
    "\n",
    "for i in range(100):\n",
    "    lifetime = product.sample()\n",
    "    \n",
    "    prior = pp.parameter_posterior(lifetime, likelihood=likelihood, priors=prior)\n",
    "    \n",
    "    if i % 10 == 0:\n",
    "        print(\"Average lifetime\", prior.a / prior.b)"
   ]
  }
 ],
 "metadata": {
  "kernelspec": {
   "display_name": "Python 3",
   "language": "python",
   "name": "python3"
  },
  "language_info": {
   "codemirror_mode": {
    "name": "ipython",
    "version": 3
   },
   "file_extension": ".py",
   "mimetype": "text/x-python",
   "name": "python",
   "nbconvert_exporter": "python",
   "pygments_lexer": "ipython3",
   "version": "3.7.4"
  }
 },
 "nbformat": 4,
 "nbformat_minor": 4
}
