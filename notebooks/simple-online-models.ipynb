{
 "cells": [
  {
   "cell_type": "markdown",
   "metadata": {},
   "source": [
    "- [fairness of coin](#Learning-fairness-of-coin)\n",
    "- [Proportions of colors in deck](#Learning-Proportions-of-colors-in-deck)\n",
    "- [a noisy parameter](#Learning-a-noisy-parameter)\n",
    "- [First Success](#First-success)\n",
    "- [Average lifetime](#Average-lifetime)"
   ]
  },
  {
   "cell_type": "markdown",
   "metadata": {},
   "source": [
    "fairness of coin\n",
    "---"
   ]
  },
  {
   "cell_type": "code",
   "execution_count": 1,
   "metadata": {},
   "outputs": [
    {
     "name": "stdout",
     "output_type": "stream",
     "text": [
      "0.5714285714285714\n",
      "0.625\n",
      "0.5555555555555556\n",
      "0.6\n",
      "0.6363636363636364\n",
      "0.6666666666666666\n",
      "0.6923076923076923\n",
      "0.7142857142857143\n",
      "0.7333333333333333\n",
      "0.75\n",
      "0.7647058823529411\n",
      "0.7777777777777778\n",
      "0.7368421052631579\n",
      "0.75\n",
      "0.7619047619047619\n",
      "0.7727272727272727\n",
      "0.7391304347826086\n",
      "0.75\n",
      "0.76\n",
      "0.7307692307692307\n"
     ]
    }
   ],
   "source": [
    "import probpy as pp\n",
    "\n",
    "coin = pp.bernoulli.med(probability=0.7)\n",
    "\n",
    "prior = pp.beta.med(a=3.0, b=3.0) # 50 50 prior\n",
    "likelihood = pp.bernoulli.med() # likelihood is a bernoulli\n",
    "\n",
    "for _ in range(20):\n",
    "    outcome = coin.sample()\n",
    "    prior = pp.parameter_posterior(outcome, likelihood=likelihood, prior=prior)\n",
    "    \n",
    "    prediction = pp.predictive_posterior(likelihood=likelihood, priors=prior)\n",
    "    \n",
    "    print(prediction.probability)"
   ]
  },
  {
   "cell_type": "markdown",
   "metadata": {},
   "source": [
    "Proportions of colors in a deck\n",
    "---"
   ]
  },
  {
   "cell_type": "code",
   "execution_count": 2,
   "metadata": {},
   "outputs": [
    {
     "name": "stdout",
     "output_type": "stream",
     "text": [
      "[0.22222222 0.22222222 0.22222222 0.33333333]\n",
      "[0.21052632 0.15789474 0.31578947 0.31578947]\n",
      "[0.17241379 0.13793103 0.48275862 0.20689655]\n",
      "[0.17948718 0.12820513 0.51282051 0.17948718]\n",
      "[0.18367347 0.14285714 0.51020408 0.16326531]\n",
      "[0.18644068 0.15254237 0.50847458 0.15254237]\n",
      "[0.17391304 0.15942029 0.44927536 0.2173913 ]\n",
      "[0.15189873 0.16455696 0.46835443 0.21518987]\n",
      "[0.15730337 0.14606742 0.49438202 0.20224719]\n",
      "[0.16161616 0.16161616 0.49494949 0.18181818]\n",
      "[0.1559633  0.1559633  0.48623853 0.20183486]\n",
      "[0.14285714 0.17647059 0.48739496 0.19327731]\n",
      "[0.13178295 0.17829457 0.50387597 0.18604651]\n",
      "[0.1294964  0.17266187 0.50359712 0.1942446 ]\n",
      "[0.12080537 0.17449664 0.51677852 0.18791946]\n",
      "[0.11949686 0.16981132 0.50943396 0.20125786]\n",
      "[0.13017751 0.15976331 0.5147929  0.19526627]\n",
      "[0.12849162 0.15642458 0.50837989 0.20670391]\n",
      "[0.13756614 0.15873016 0.49206349 0.21164021]\n",
      "[0.13567839 0.16582915 0.48241206 0.2160804 ]\n"
     ]
    }
   ],
   "source": [
    "import numpy as np\n",
    "\n",
    "card_probabilities = np.array([0.1, 0.2, 0.5, 0.2])\n",
    "\n",
    "cards = pp.categorical.med(probabilities=card_probabilities)\n",
    "\n",
    "prior = pp.dirichlet.med(alpha=np.ones(4) * 3)\n",
    "likelihood = pp.categorical.med()\n",
    "\n",
    "for i in range(200):\n",
    "    card = cards.sample()    \n",
    "    prior = pp.parameter_posterior(card, likelihood=likelihood, prior=prior)\n",
    "        \n",
    "    if i % 10 == 0:\n",
    "        print(pp.mode(prior))"
   ]
  },
  {
   "cell_type": "markdown",
   "metadata": {},
   "source": [
    "a noisy parameter\n",
    "---"
   ]
  },
  {
   "cell_type": "code",
   "execution_count": 3,
   "metadata": {},
   "outputs": [
    {
     "name": "stdout",
     "output_type": "stream",
     "text": [
      "Mu estimate 1.6305308629931308 Sigma estimate 2.5610107250865517\n",
      "Mu estimate 3.852010398077393 Sigma estimate 7.8943583723476065\n",
      "Mu estimate 4.705217396249322 Sigma estimate 8.837615284088804\n",
      "Mu estimate 5.21389433753575 Sigma estimate 9.345947807839805\n",
      "Mu estimate 5.123517158049604 Sigma estimate 8.004896029751297\n",
      "Mu estimate 5.185767099434257 Sigma estimate 9.520870942640935\n",
      "Mu estimate 5.081358835783046 Sigma estimate 9.10797993986148\n",
      "Mu estimate 4.99859069616187 Sigma estimate 8.95660728666188\n",
      "Mu estimate 5.085338186936546 Sigma estimate 8.514492339830344\n",
      "Mu estimate 5.000584673870679 Sigma estimate 9.087064165836304\n"
     ]
    }
   ],
   "source": [
    "parameter = pp.normal.med(mu=5.0, sigma=10.0)\n",
    "\n",
    "prior = pp.normal_inverse_gamma.med(mu=1.0, lam=5.0, a=4.0, b=3.0)\n",
    "likelihood = pp.normal.med()\n",
    "\n",
    "for i in range(100):\n",
    "    sample = parameter.sample()\n",
    "    \n",
    "    prior = pp.parameter_posterior(sample, likelihood=likelihood, prior=prior)\n",
    "    \n",
    "    if i % 10 == 0:\n",
    "        print(\"Mu estimate\", prior.mu, \"Sigma estimate\", prior.b / (prior.a - 1))\n"
   ]
  },
  {
   "cell_type": "markdown",
   "metadata": {},
   "source": [
    "First success\n",
    "---"
   ]
  },
  {
   "cell_type": "code",
   "execution_count": 4,
   "metadata": {},
   "outputs": [
    {
     "name": "stdout",
     "output_type": "stream",
     "text": [
      "First success probability 0.2\n",
      "First success probability 0.14814814814814814\n",
      "First success probability 0.13836477987421383\n",
      "First success probability 0.11764705882352941\n",
      "First success probability 0.11764705882352941\n",
      "First success probability 0.11529933481152993\n",
      "First success probability 0.1150278293135436\n",
      "First success probability 0.10650887573964496\n",
      "First success probability 0.09963547995139732\n",
      "First success probability 0.09903121636167923\n"
     ]
    }
   ],
   "source": [
    "first_success = pp.geometric.med(probability=0.1)\n",
    "\n",
    "prior = pp.beta.med(a=2.0, b=2.0)\n",
    "likelihood = pp.geometric.med()\n",
    "\n",
    "for i in range(100):\n",
    "    success_on = first_success.sample()\n",
    "    \n",
    "    prior = pp.parameter_posterior(success_on, likelihood=likelihood, prior=prior)\n",
    "    \n",
    "    if i % 10 == 0:\n",
    "        print(\"First success probability\", 1 / (prior.b / (prior.a - 1)))"
   ]
  },
  {
   "cell_type": "markdown",
   "metadata": {},
   "source": [
    "Average lifetime\n",
    "---"
   ]
  },
  {
   "cell_type": "code",
   "execution_count": 5,
   "metadata": {},
   "outputs": [
    {
     "name": "stdout",
     "output_type": "stream",
     "text": [
      "Average lifetime 1.4177484338327822\n",
      "Average lifetime 2.318202013257616\n",
      "Average lifetime 2.9794019569498493\n",
      "Average lifetime 2.838969471587376\n",
      "Average lifetime 2.859539970104797\n",
      "Average lifetime 2.8129616152534997\n",
      "Average lifetime 2.766236992862546\n",
      "Average lifetime 2.911918634586746\n",
      "Average lifetime 3.141641412868176\n",
      "Average lifetime 3.0953963092803387\n"
     ]
    }
   ],
   "source": [
    "product = pp.exponential.med(lam=3.0)\n",
    "\n",
    "prior = pp.gamma.med(a=2.0, b=2.0)\n",
    "likelihood = pp.exponential.med()\n",
    "\n",
    "for i in range(100):\n",
    "    lifetime = product.sample()\n",
    "    \n",
    "    prior = pp.parameter_posterior(lifetime, likelihood=likelihood, prior=prior)\n",
    "    \n",
    "    if i % 10 == 0:\n",
    "        print(\"Average lifetime\", prior.a / prior.b)"
   ]
  }
 ],
 "metadata": {
  "kernelspec": {
   "display_name": "Python 3",
   "language": "python",
   "name": "python3"
  },
  "language_info": {
   "codemirror_mode": {
    "name": "ipython",
    "version": 3
   },
   "file_extension": ".py",
   "mimetype": "text/x-python",
   "name": "python",
   "nbconvert_exporter": "python",
   "pygments_lexer": "ipython3",
   "version": "3.7.4"
  }
 },
 "nbformat": 4,
 "nbformat_minor": 4
}
