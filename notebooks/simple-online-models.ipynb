{
 "cells": [
  {
   "cell_type": "markdown",
   "metadata": {},
   "source": [
    "- [fairness of coin](#Learning-fairness-of-coin)\n",
    "- [Proportions of colors in deck](#Learning-Proportions-of-colors-in-deck)\n",
    "- [a noisy parameter](#Learning-a-noisy-parameter)\n",
    "- [First Success](#First-success)\n",
    "- [Average lifetime](#Average-lifetime)"
   ]
  },
  {
   "cell_type": "markdown",
   "metadata": {},
   "source": [
    "fairness of coin\n",
    "---"
   ]
  },
  {
   "cell_type": "code",
   "execution_count": 1,
   "metadata": {},
   "outputs": [
    {
     "name": "stdout",
     "output_type": "stream",
     "text": [
      "0.42857142857142855\n",
      "0.5\n",
      "0.5555555555555556\n",
      "0.6\n",
      "0.6363636363636364\n",
      "0.6666666666666666\n",
      "0.6923076923076923\n",
      "0.7142857142857143\n",
      "0.6666666666666666\n",
      "0.6875\n",
      "0.6470588235294118\n",
      "0.6111111111111112\n",
      "0.631578947368421\n",
      "0.65\n",
      "0.6666666666666666\n",
      "0.6818181818181818\n",
      "0.6521739130434783\n",
      "0.6666666666666666\n",
      "0.68\n",
      "0.6923076923076923\n"
     ]
    }
   ],
   "source": [
    "import probpy as pp\n",
    "\n",
    "coin = pp.bernoulli.med(probability=0.7)\n",
    "\n",
    "prior = pp.beta.med(a=3.0, b=3.0) # 50 50 prior\n",
    "likelihood = pp.bernoulli.med() # likelihood is a bernoulli\n",
    "\n",
    "for _ in range(20):\n",
    "    outcome = coin.sample()\n",
    "    prior = pp.parameter_posterior(outcome, likelihood=likelihood, priors=prior)\n",
    "    \n",
    "    prediction = pp.predictive_posterior(likelihood=likelihood, priors=prior)\n",
    "    \n",
    "    print(prediction.probability)"
   ]
  },
  {
   "cell_type": "markdown",
   "metadata": {},
   "source": [
    "Proportions of colors in a deck\n",
    "---"
   ]
  },
  {
   "cell_type": "code",
   "execution_count": 2,
   "metadata": {},
   "outputs": [
    {
     "name": "stdout",
     "output_type": "stream",
     "text": [
      "[0.22222222 0.22222222 0.33333333 0.22222222]\n",
      "[0.10526316 0.15789474 0.47368421 0.26315789]\n",
      "[0.10344828 0.10344828 0.62068966 0.17241379]\n",
      "[0.1025641  0.07692308 0.64102564 0.17948718]\n",
      "[0.08163265 0.14285714 0.6122449  0.16326531]\n",
      "[0.08474576 0.18644068 0.59322034 0.13559322]\n",
      "[0.08695652 0.15942029 0.5942029  0.15942029]\n",
      "[0.08860759 0.15189873 0.59493671 0.16455696]\n",
      "[0.08988764 0.13483146 0.57303371 0.20224719]\n",
      "[0.1010101  0.14141414 0.57575758 0.18181818]\n",
      "[0.09174312 0.1559633  0.55045872 0.20183486]\n",
      "[0.09243697 0.15966387 0.53781513 0.21008403]\n",
      "[0.08527132 0.15503876 0.54263566 0.21705426]\n",
      "[0.07913669 0.15827338 0.56115108 0.20143885]\n",
      "[0.08053691 0.16107383 0.55033557 0.20805369]\n",
      "[0.08805031 0.1509434  0.54716981 0.21383648]\n",
      "[0.08284024 0.14201183 0.55029586 0.22485207]\n",
      "[0.08379888 0.13407821 0.55865922 0.22346369]\n",
      "[0.08465608 0.13756614 0.56084656 0.21693122]\n",
      "[0.09547739 0.14572864 0.55276382 0.20603015]\n"
     ]
    }
   ],
   "source": [
    "import numpy as np\n",
    "\n",
    "card_probabilities = np.array([0.1, 0.2, 0.5, 0.2])\n",
    "\n",
    "cards = pp.categorical.med(probabilities=card_probabilities)\n",
    "\n",
    "prior = pp.dirichlet.med(alpha=np.ones(4) * 3)\n",
    "likelihood = pp.categorical.med()\n",
    "\n",
    "for i in range(200):\n",
    "    card = cards.sample()    \n",
    "    prior = pp.parameter_posterior(card, likelihood=likelihood, priors=prior)\n",
    "        \n",
    "    if i % 10 == 0:\n",
    "        print(pp.mode(prior))"
   ]
  },
  {
   "cell_type": "markdown",
   "metadata": {},
   "source": [
    "a noisy parameter\n",
    "---"
   ]
  },
  {
   "cell_type": "code",
   "execution_count": 3,
   "metadata": {},
   "outputs": [
    {
     "name": "stdout",
     "output_type": "stream",
     "text": [
      "Mu estimate 1.7151003400140452 Sigma estimate 3.0487221269494422\n",
      "Mu estimate 4.719186419246861 Sigma estimate 12.660566439454273\n",
      "Mu estimate 4.856517916465321 Sigma estimate 9.72609040202384\n",
      "Mu estimate 4.575980050863169 Sigma estimate 8.840056494317865\n",
      "Mu estimate 4.60594058752315 Sigma estimate 9.216512786356683\n",
      "Mu estimate 4.755137324854568 Sigma estimate 10.58858928058861\n",
      "Mu estimate 4.8148300575476615 Sigma estimate 12.07442370444623\n",
      "Mu estimate 5.029113515736659 Sigma estimate 11.35566302684957\n",
      "Mu estimate 4.95194936040825 Sigma estimate 11.103324863437127\n",
      "Mu estimate 5.022270081113264 Sigma estimate 10.964479651778529\n"
     ]
    }
   ],
   "source": [
    "parameter = pp.normal.med(mu=5.0, sigma=10.0)\n",
    "\n",
    "prior = pp.normal_inverse_gamma.med(mu=1.0, lam=5.0, a=4.0, b=3.0)\n",
    "likelihood = pp.normal.med()\n",
    "\n",
    "for i in range(100):\n",
    "    sample = parameter.sample()\n",
    "    \n",
    "    prior = pp.parameter_posterior(sample, likelihood=likelihood, priors=prior)\n",
    "    \n",
    "    if i % 10 == 0:\n",
    "        print(\"Mu estimate\", prior.mu, \"Sigma estimate\", prior.b / (prior.a - 1))\n"
   ]
  },
  {
   "cell_type": "markdown",
   "metadata": {},
   "source": [
    "First success\n",
    "---"
   ]
  },
  {
   "cell_type": "code",
   "execution_count": 4,
   "metadata": {},
   "outputs": [
    {
     "name": "stdout",
     "output_type": "stream",
     "text": [
      "First success probability 0.15384615384615385\n",
      "First success probability 0.11214953271028039\n",
      "First success probability 0.10138248847926268\n",
      "First success probability 0.09090909090909091\n",
      "First success probability 0.09722222222222221\n",
      "First success probability 0.09471766848816028\n",
      "First success probability 0.09281437125748504\n",
      "First success probability 0.08823529411764705\n",
      "First success probability 0.0841025641025641\n",
      "First success probability 0.08417200365965234\n"
     ]
    }
   ],
   "source": [
    "first_success = pp.geometric.med(probability=0.1)\n",
    "\n",
    "prior = pp.beta.med(a=2.0, b=2.0)\n",
    "likelihood = pp.geometric.med()\n",
    "\n",
    "for i in range(100):\n",
    "    success_on = first_success.sample()\n",
    "    \n",
    "    prior = pp.parameter_posterior(success_on, likelihood=likelihood, priors=prior)\n",
    "    \n",
    "    if i % 10 == 0:\n",
    "        print(\"First success probability\", 1 / (prior.b / (prior.a - 1)))"
   ]
  },
  {
   "cell_type": "markdown",
   "metadata": {},
   "source": [
    "Average lifetime\n",
    "---"
   ]
  },
  {
   "cell_type": "code",
   "execution_count": 5,
   "metadata": {},
   "outputs": [
    {
     "name": "stdout",
     "output_type": "stream",
     "text": [
      "Average lifetime 1.4101385688279506\n",
      "Average lifetime 2.704367785716237\n",
      "Average lifetime 3.0076349022231033\n",
      "Average lifetime 3.1952833428771674\n",
      "Average lifetime 2.8139807101475096\n",
      "Average lifetime 3.1040329162540625\n",
      "Average lifetime 3.0998648610777657\n",
      "Average lifetime 3.0528721040475935\n",
      "Average lifetime 3.0211689921293705\n",
      "Average lifetime 3.0353196560992064\n"
     ]
    }
   ],
   "source": [
    "product = pp.exponential.med(lam=3.0)\n",
    "\n",
    "prior = pp.gamma.med(a=2.0, b=2.0)\n",
    "likelihood = pp.exponential.med()\n",
    "\n",
    "for i in range(100):\n",
    "    lifetime = product.sample()\n",
    "    \n",
    "    prior = pp.parameter_posterior(lifetime, likelihood=likelihood, priors=prior)\n",
    "    \n",
    "    if i % 10 == 0:\n",
    "        print(\"Average lifetime\", prior.a / prior.b)"
   ]
  }
 ],
 "metadata": {
  "kernelspec": {
   "display_name": "Python 3",
   "language": "python",
   "name": "python3"
  },
  "language_info": {
   "codemirror_mode": {
    "name": "ipython",
    "version": 3
   },
   "file_extension": ".py",
   "mimetype": "text/x-python",
   "name": "python",
   "nbconvert_exporter": "python",
   "pygments_lexer": "ipython3",
   "version": "3.7.4"
  }
 },
 "nbformat": 4,
 "nbformat_minor": 4
}
