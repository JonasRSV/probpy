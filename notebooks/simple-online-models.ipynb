{
 "cells": [
  {
   "cell_type": "markdown",
   "metadata": {},
   "source": [
    "- [fairness of coin](#Learning-fairness-of-coin)\n",
    "- [Proportions of colors in deck](#Learning-Proportions-of-colors-in-deck)\n",
    "- [a noisy parameter](#Learning-a-noisy-parameter)\n",
    "- [First Success](#First-success)\n",
    "- [Average lifetime](#Average-lifetime)"
   ]
  },
  {
   "cell_type": "markdown",
   "metadata": {},
   "source": [
    "fairness of coin\n",
    "---"
   ]
  },
  {
   "cell_type": "code",
   "execution_count": 4,
   "metadata": {},
   "outputs": [
    {
     "name": "stdout",
     "output_type": "stream",
     "text": [
      "0.5714285714285714\n",
      "0.625\n",
      "0.6666666666666666\n",
      "0.7\n",
      "0.6363636363636364\n",
      "0.6666666666666666\n",
      "0.6923076923076923\n",
      "0.7142857142857143\n",
      "0.6666666666666666\n",
      "0.625\n",
      "0.6470588235294118\n",
      "0.6111111111111112\n",
      "0.631578947368421\n",
      "0.65\n",
      "0.6666666666666666\n",
      "0.6818181818181818\n",
      "0.6956521739130435\n",
      "0.7083333333333334\n",
      "0.68\n",
      "0.6923076923076923\n"
     ]
    }
   ],
   "source": [
    "import probpy as pp\n",
    "\n",
    "coin = pp.bernoulli.med(probability=0.7)\n",
    "\n",
    "prior = pp.beta.med(a=3.0, b=3.0) # 50 50 prior\n",
    "likelihood = pp.bernoulli.med() # likelihood is a bernoulli\n",
    "\n",
    "for _ in range(20):\n",
    "    outcome = coin.sample()\n",
    "    prior = pp.parameter_posterior(outcome, likelihood=likelihood, priors=prior)\n",
    "    \n",
    "    prediction = pp.predictive_posterior(likelihood=likelihood, priors=prior)\n",
    "    \n",
    "    print(prediction.probability)"
   ]
  },
  {
   "cell_type": "markdown",
   "metadata": {},
   "source": [
    "Proportions of colors in a deck\n",
    "---"
   ]
  },
  {
   "cell_type": "code",
   "execution_count": 5,
   "metadata": {},
   "outputs": [
    {
     "name": "stdout",
     "output_type": "stream",
     "text": [
      "[0.22222222 0.22222222 0.33333333 0.22222222]\n",
      "[0.10526316 0.26315789 0.42105263 0.21052632]\n",
      "[0.06896552 0.24137931 0.51724138 0.17241379]\n",
      "[0.1025641  0.20512821 0.53846154 0.15384615]\n",
      "[0.08163265 0.18367347 0.55102041 0.18367347]\n",
      "[0.08474576 0.20338983 0.54237288 0.16949153]\n",
      "[0.07246377 0.1884058  0.53623188 0.20289855]\n",
      "[0.07594937 0.20253165 0.53164557 0.18987342]\n",
      "[0.06741573 0.20224719 0.53932584 0.19101124]\n",
      "[0.07070707 0.18181818 0.55555556 0.19191919]\n",
      "[0.0733945  0.16513761 0.57798165 0.18348624]\n",
      "[0.07563025 0.16806723 0.57983193 0.17647059]\n",
      "[0.06976744 0.19379845 0.55813953 0.17829457]\n",
      "[0.07194245 0.1942446  0.56834532 0.16546763]\n",
      "[0.06711409 0.19463087 0.57718121 0.16107383]\n",
      "[0.06918239 0.20125786 0.56603774 0.16352201]\n",
      "[0.07100592 0.20118343 0.5739645  0.15384615]\n",
      "[0.0726257  0.2122905  0.56424581 0.15083799]\n",
      "[0.07407407 0.20634921 0.56613757 0.15343915]\n",
      "[0.07035176 0.20603015 0.57286432 0.15075377]\n"
     ]
    }
   ],
   "source": [
    "import numpy as np\n",
    "\n",
    "card_probabilities = np.array([0.1, 0.2, 0.5, 0.2])\n",
    "\n",
    "cards = pp.categorical.med(probabilities=card_probabilities)\n",
    "\n",
    "prior = pp.dirichlet.med(alpha=np.ones(4) * 3)\n",
    "likelihood = pp.categorical.med()\n",
    "\n",
    "for i in range(200):\n",
    "    card = cards.sample()    \n",
    "    prior = pp.parameter_posterior(card, likelihood=likelihood, priors=prior)\n",
    "        \n",
    "    if i % 10 == 0:\n",
    "        print(pp.mode(prior))"
   ]
  },
  {
   "cell_type": "markdown",
   "metadata": {},
   "source": [
    "a noisy parameter\n",
    "---"
   ]
  },
  {
   "cell_type": "code",
   "execution_count": 6,
   "metadata": {},
   "outputs": [
    {
     "name": "stdout",
     "output_type": "stream",
     "text": [
      "Mu estimate 2.386318978722101 Sigma estimate 9.093772760421809\n",
      "Mu estimate 3.6296902556881934 Sigma estimate 11.331831769743086\n",
      "Mu estimate 4.257945196802593 Sigma estimate 10.702676668995306\n",
      "Mu estimate 4.170142195394556 Sigma estimate 9.336274683414032\n",
      "Mu estimate 4.222702066439336 Sigma estimate 8.128175404300105\n",
      "Mu estimate 4.013989848518606 Sigma estimate 8.957934301293472\n",
      "Mu estimate 4.432448890147271 Sigma estimate 9.987263441272273\n",
      "Mu estimate 4.587838325123863 Sigma estimate 10.729740334074755\n",
      "Mu estimate 4.8004021890860855 Sigma estimate 10.485051254989292\n",
      "Mu estimate 4.976307795229652 Sigma estimate 9.848078762594334\n"
     ]
    }
   ],
   "source": [
    "parameter = pp.normal.med(mu=5.0, sigma=10.0)\n",
    "\n",
    "prior = pp.normal_inverse_gamma.med(mu=1.0, lam=5.0, a=4.0, b=3.0)\n",
    "likelihood = pp.normal.med()\n",
    "\n",
    "for i in range(100):\n",
    "    sample = parameter.sample()\n",
    "    \n",
    "    prior = pp.parameter_posterior(sample, likelihood=likelihood, priors=prior)\n",
    "    \n",
    "    if i % 10 == 0:\n",
    "        print(\"Mu estimate\", prior.mu, \"Sigma estimate\", prior.b / (prior.a - 1))\n"
   ]
  },
  {
   "cell_type": "markdown",
   "metadata": {},
   "source": [
    "First success\n",
    "---"
   ]
  },
  {
   "cell_type": "code",
   "execution_count": 7,
   "metadata": {},
   "outputs": [
    {
     "name": "stdout",
     "output_type": "stream",
     "text": [
      "First success probability 0.1\n",
      "First success probability 0.11650485436893203\n",
      "First success probability 0.10891089108910891\n",
      "First success probability 0.11267605633802817\n",
      "First success probability 0.1024390243902439\n",
      "First success probability 0.10655737704918032\n",
      "First success probability 0.10580204778156997\n",
      "First success probability 0.10329985652797705\n",
      "First success probability 0.0993939393939394\n",
      "First success probability 0.09735449735449735\n"
     ]
    }
   ],
   "source": [
    "first_success = pp.geometric.med(probability=0.1)\n",
    "\n",
    "prior = pp.beta.med(a=2.0, b=2.0)\n",
    "likelihood = pp.geometric.med()\n",
    "\n",
    "for i in range(100):\n",
    "    success_on = first_success.sample()\n",
    "    \n",
    "    prior = pp.parameter_posterior(success_on, likelihood=likelihood, priors=prior)\n",
    "    \n",
    "    if i % 10 == 0:\n",
    "        print(\"First success probability\", 1 / (prior.b / (prior.a - 1)))"
   ]
  },
  {
   "cell_type": "markdown",
   "metadata": {},
   "source": [
    "Average lifetime\n",
    "---"
   ]
  },
  {
   "cell_type": "code",
   "execution_count": 8,
   "metadata": {},
   "outputs": [
    {
     "name": "stdout",
     "output_type": "stream",
     "text": [
      "Average lifetime 1.420505536958994\n",
      "Average lifetime 1.9766662443552792\n",
      "Average lifetime 2.711583606641255\n",
      "Average lifetime 2.947795738678642\n",
      "Average lifetime 2.589790882835449\n",
      "Average lifetime 2.7808185792128386\n",
      "Average lifetime 2.9025000216410697\n",
      "Average lifetime 2.734171932903773\n",
      "Average lifetime 2.9267827670397626\n",
      "Average lifetime 3.0420082845067022\n"
     ]
    }
   ],
   "source": [
    "product = pp.exponential.med(lam=3.0)\n",
    "\n",
    "prior = pp.gamma.med(a=2.0, b=2.0)\n",
    "likelihood = pp.exponential.med()\n",
    "\n",
    "for i in range(100):\n",
    "    lifetime = product.sample()\n",
    "    \n",
    "    prior = pp.parameter_posterior(lifetime, likelihood=likelihood, priors=prior)\n",
    "    \n",
    "    if i % 10 == 0:\n",
    "        print(\"Average lifetime\", prior.a / prior.b)"
   ]
  }
 ],
 "metadata": {
  "kernelspec": {
   "display_name": "Python 3",
   "language": "python",
   "name": "python3"
  },
  "language_info": {
   "codemirror_mode": {
    "name": "ipython",
    "version": 3
   },
   "file_extension": ".py",
   "mimetype": "text/x-python",
   "name": "python",
   "nbconvert_exporter": "python",
   "pygments_lexer": "ipython3",
   "version": "3.7.4"
  }
 },
 "nbformat": 4,
 "nbformat_minor": 4
}
