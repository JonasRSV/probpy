{
 "cells": [
  {
   "cell_type": "markdown",
   "metadata": {},
   "source": [
    "- [Online IRT MCMC + Moment Matching](#MCMC-+-Moment-Matching)\n",
    "- [Online IRT Search](#Search)"
   ]
  },
  {
   "cell_type": "code",
   "execution_count": 1,
   "metadata": {},
   "outputs": [],
   "source": [
    "import probpy as pp\n",
    "import numpy as np\n",
    "import numba\n",
    "import random"
   ]
  },
  {
   "cell_type": "markdown",
   "metadata": {},
   "source": [
    "Utilities and data\n",
    "---"
   ]
  },
  {
   "cell_type": "code",
   "execution_count": 2,
   "metadata": {},
   "outputs": [],
   "source": [
    "\n",
    "@numba.jit(nopython=True, fastmath=True, forceobj=False)\n",
    "def sigmoid(x):\n",
    "    return (1 / (1 + np.exp(-x)))\n",
    "\n",
    "def logit(x):\n",
    "    return np.log(x / (1 - x))\n",
    "\n",
    "student_skill = logit(0.7)\n",
    "\n",
    "items = logit(np.array([0.4, 0.6, 0.8, 0.7]))  # difficulties\n",
    "\n",
    "\n",
    "fast_p = pp.normal.fast_p\n",
    "def likelihood(obs, item, skill): # IRT likelihood\n",
    "    return fast_p(obs - sigmoid(skill - item), mu=0.0, sigma=0.6)\n",
    "   \n",
    "    \n",
    "## IRT samples\n",
    "samples = 100\n",
    "obs, its = [], []\n",
    "for i in range(samples):  \n",
    "    item = items[np.random.randint(0, items.size)]\n",
    "    outcome = float(np.random.rand() < sigmoid(student_skill - item))\n",
    "\n",
    "    obs.append(outcome)\n",
    "    its.append(item)"
   ]
  },
  {
   "cell_type": "markdown",
   "metadata": {},
   "source": [
    "MCMC + Moment Matching\n",
    "---"
   ]
  },
  {
   "cell_type": "code",
   "execution_count": 4,
   "metadata": {},
   "outputs": [
    {
     "name": "stdout",
     "output_type": "stream",
     "text": [
      "observation 1.0 item 0.6 mode 0.6225059514783556\n",
      "observation 1.0 item 0.6 mode 0.6554780171083098\n",
      "observation 1.0 item 0.4 mode 0.45999009663243956\n",
      "observation 0.0 item 0.7 mode 0.3630372401468977\n",
      "observation 0.0 item 0.6 mode 0.32824264854035146\n",
      "observation 1.0 item 0.4 mode 0.4279925276803948\n",
      "observation 1.0 item 0.4 mode 0.4542575933060088\n",
      "observation 0.0 item 0.4 mode 0.4024117973178125\n",
      "observation 1.0 item 0.6 mode 0.5169701060098407\n",
      "observation 1.0 item 0.4 mode 0.6162432913004154\n",
      "observation 1.0 item 0.6 mode 0.6300152747562603\n",
      "observation 0.0 item 0.7 mode 0.6467488944583252\n",
      "observation 1.0 item 0.7 mode 0.7099893186899374\n",
      "observation 1.0 item 0.6 mode 0.722954678778478\n",
      "observation 0.0 item 0.8 mode 0.7119169284323583\n",
      "observation 0.0 item 0.8 mode 0.7129548634722916\n",
      "observation 0.0 item 0.7 mode 0.7061706084108672\n",
      "observation 0.0 item 0.6 mode 0.7237591685722826\n",
      "observation 1.0 item 0.4 mode 0.7404711013701378\n",
      "observation 0.0 item 0.7 mode 0.7222712268824201\n",
      "observation 0.0 item 0.4 mode 0.7108148195526495\n",
      "observation 1.0 item 0.8 mode 0.70485721652197\n",
      "observation 1.0 item 0.4 mode 0.6872203148048649\n",
      "observation 1.0 item 0.6 mode 0.6980695365843564\n",
      "observation 1.0 item 0.8 mode 0.6979703994171196\n",
      "observation 0.0 item 0.8 mode 0.6848127590006883\n",
      "observation 1.0 item 0.4 mode 0.700531260829732\n",
      "observation 1.0 item 0.4 mode 0.6860211073191875\n",
      "observation 0.0 item 0.8 mode 0.6606729926368056\n",
      "observation 0.0 item 0.6 mode 0.6375874213623619\n",
      "CPU times: user 21.7 s, sys: 23.7 ms, total: 21.7 s\n",
      "Wall time: 21.7 s\n"
     ]
    }
   ],
   "source": [
    "%%time\n",
    "\n",
    "\n",
    "prior_skill = pp.normal.med(mu=0.0, sigma=5)\n",
    "\n",
    "for i in range(samples)[:30]:\n",
    "    prior_skill = pp.parameter_posterior((obs[i], its[i]), likelihood=likelihood, prior=prior_skill,\n",
    "                                         mode=\"mcmc\", match_moments_for=pp.normal,\n",
    "                                         samples=20000, mixing=10000, batch=5, energy=0.1)\n",
    "        \n",
    "    \n",
    "    print(\"observation\", obs[i], \"item\", sigmoid(its[i]), \"mode\", sigmoid(pp.mode(prior_skill)))\n"
   ]
  },
  {
   "cell_type": "markdown",
   "metadata": {},
   "source": [
    "Search\n",
    "---"
   ]
  },
  {
   "cell_type": "code",
   "execution_count": 26,
   "metadata": {},
   "outputs": [
    {
     "name": "stdout",
     "output_type": "stream",
     "text": [
      "observation 1.0 item 0.6 mode [0.76307783]\n",
      "observation 1.0 item 0.4 mode [0.79026422]\n",
      "observation 1.0 item 0.7 mode [0.8579251]\n",
      "observation 0.0 item 0.8 mode [0.73040998]\n",
      "observation 0.0 item 0.8 mode [0.61799228]\n",
      "observation 0.0 item 0.8 mode [0.53587315]\n",
      "observation 0.0 item 0.8 mode [0.47865744]\n",
      "observation 1.0 item 0.7 mode [0.71926162]\n",
      "observation 0.0 item 0.8 mode [0.54868546]\n",
      "observation 1.0 item 0.6 mode [0.73544899]\n",
      "observation 1.0 item 0.4 mode [0.77172806]\n",
      "observation 1.0 item 0.6 mode [0.83478771]\n",
      "observation 0.0 item 0.8 mode [0.70176608]\n",
      "observation 1.0 item 0.7 mode [0.82534356]\n",
      "observation 0.0 item 0.8 mode [0.69042595]\n",
      "observation 1.0 item 0.7 mode [0.81443007]\n",
      "observation 1.0 item 0.4 mode [0.82775929]\n",
      "observation 1.0 item 0.7 mode [0.87594142]\n",
      "observation 0.0 item 0.8 mode [0.750519]\n",
      "observation 1.0 item 0.6 mode [0.82513622]\n",
      "observation 1.0 item 0.8 mode [0.88647549]\n",
      "observation 1.0 item 0.4 mode [0.89555844]\n",
      "observation 0.0 item 0.7 mode [0.74407424]\n",
      "observation 0.0 item 0.7 mode [0.57649309]\n",
      "observation 1.0 item 0.7 mode [0.76011755]\n",
      "observation 1.0 item 0.4 mode [0.77947804]\n",
      "observation 0.0 item 0.8 mode [0.66217806]\n",
      "observation 1.0 item 0.7 mode [0.80289661]\n",
      "observation 0.0 item 0.6 mode [0.58942799]\n",
      "observation 1.0 item 0.7 mode [0.76902415]\n",
      "CPU times: user 4.1 s, sys: 1.92 ms, total: 4.1 s\n",
      "Wall time: 4.08 s\n"
     ]
    }
   ],
   "source": [
    "%%time\n",
    "\n",
    "\n",
    "prior_skill = pp.normal.med(mu=0.0, sigma=10)\n",
    "\n",
    "for i in range(samples)[:30]:\n",
    "    prior_skill = pp.parameter_posterior((obs[i], its[i]), \n",
    "                                         likelihood=likelihood, priors=prior_skill,\n",
    "                                         mode=\"search\",\n",
    "                                         samples=300, batch=5,\n",
    "                                         volume=100, energy=0.1,\n",
    "                                         variance=2.0)\n",
    "    modes = sigmoid(np.array(pp.mode(prior_skill)))\n",
    "    \n",
    "    print(\"observation\", obs[i], \"item\", sigmoid(its[i]), \"mode\", sigmoid(pp.mode(prior_skill))[0])\n",
    "\n"
   ]
  },
  {
   "cell_type": "markdown",
   "metadata": {},
   "source": [
    "Different model\n",
    "---"
   ]
  },
  {
   "cell_type": "code",
   "execution_count": 29,
   "metadata": {},
   "outputs": [
    {
     "name": "stdout",
     "output_type": "stream",
     "text": [
      "observation 1.0 item 0.6 mode [0.81213738]\n",
      "observation 1.0 item 0.4 mode [0.67756136]\n",
      "observation 1.0 item 0.7 mode [0.84057223]\n",
      "observation 0.0 item 0.8 mode [0.80633885]\n",
      "observation 0.0 item 0.8 mode [0.8008372]\n",
      "observation 0.0 item 0.8 mode [0.80013086]\n",
      "observation 0.0 item 0.8 mode [0.8003221]\n",
      "observation 1.0 item 0.7 mode [0.85298123]\n",
      "observation 0.0 item 0.8 mode [0.81167636]\n",
      "observation 1.0 item 0.6 mode [0.80194423]\n",
      "observation 1.0 item 0.4 mode [0.67789726]\n",
      "observation 1.0 item 0.6 mode [0.78329293]\n",
      "observation 0.0 item 0.8 mode [0.78232612]\n",
      "observation 1.0 item 0.7 mode [0.85138806]\n",
      "observation 0.0 item 0.8 mode [0.81066259]\n",
      "observation 1.0 item 0.7 mode [0.85489143]\n",
      "observation 1.0 item 0.4 mode [0.69012618]\n",
      "observation 1.0 item 0.7 mode [0.8412959]\n",
      "observation 0.0 item 0.8 mode [0.80642762]\n",
      "observation 1.0 item 0.6 mode [0.80395207]\n",
      "observation 1.0 item 0.8 mode [0.90264561]\n",
      "observation 1.0 item 0.4 mode [0.70527953]\n",
      "observation 0.0 item 0.7 mode [0.70281714]\n",
      "observation 0.0 item 0.7 mode [0.69802317]\n",
      "observation 1.0 item 0.7 mode [0.84343273]\n",
      "observation 1.0 item 0.4 mode [0.68238972]\n",
      "observation 0.0 item 0.8 mode [0.68378708]\n",
      "observation 1.0 item 0.7 mode [0.83844995]\n",
      "observation 0.0 item 0.6 mode [0.6468535]\n",
      "observation 1.0 item 0.7 mode [0.83971149]\n"
     ]
    }
   ],
   "source": [
    "\n",
    "def likelihood(obs, diff, know):\n",
    "    result = []\n",
    "    for k in know:\n",
    "        result.append(pp.normal.p(obs - np.maximum(k - diff, 0.0), mu=0.0, sigma=0.1))\n",
    "    \n",
    "    return np.array(result)\n",
    "\n",
    "\n",
    "prior_skill = pp.normal.med(mu=0.0, sigma=10)\n",
    "\n",
    "for i in range(samples)[:30]:\n",
    "    prior_skill = pp.parameter_posterior((obs[i], its[i]), \n",
    "                                         likelihood=likelihood, priors=prior_skill,\n",
    "                                         mode=\"search\",\n",
    "                                         samples=300, batch=5,\n",
    "                                         volume=100, energy=0.1,\n",
    "                                         variance=1.0)\n",
    "    modes = sigmoid(np.array(pp.mode(prior_skill)))\n",
    "    \n",
    "    print(\"observation\", obs[i], \"item\", sigmoid(its[i]), \"mode\", sigmoid(pp.mode(prior_skill))[0])"
   ]
  }
 ],
 "metadata": {
  "kernelspec": {
   "display_name": "Python 3",
   "language": "python",
   "name": "python3"
  },
  "language_info": {
   "codemirror_mode": {
    "name": "ipython",
    "version": 3
   },
   "file_extension": ".py",
   "mimetype": "text/x-python",
   "name": "python",
   "nbconvert_exporter": "python",
   "pygments_lexer": "ipython3",
   "version": "3.7.4"
  }
 },
 "nbformat": 4,
 "nbformat_minor": 4
}
