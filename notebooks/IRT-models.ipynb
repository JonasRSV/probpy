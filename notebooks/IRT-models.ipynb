{
 "cells": [
  {
   "cell_type": "markdown",
   "metadata": {},
   "source": [
    "- [Online IRT MCMC + Moment Matching](#MCMC-+-Moment-Matching)\n",
    "- [Online IRT Search](#Search)"
   ]
  },
  {
   "cell_type": "code",
   "execution_count": 1,
   "metadata": {},
   "outputs": [],
   "source": [
    "import probpy as pp\n",
    "import numpy as np\n",
    "import numba\n",
    "import random"
   ]
  },
  {
   "cell_type": "markdown",
   "metadata": {},
   "source": [
    "Utilities and data\n",
    "---"
   ]
  },
  {
   "cell_type": "code",
   "execution_count": 2,
   "metadata": {},
   "outputs": [],
   "source": [
    "\n",
    "@numba.jit(nopython=True, fastmath=True, forceobj=False)\n",
    "def sigmoid(x):\n",
    "    return (1 / (1 + np.exp(-x)))\n",
    "\n",
    "def logit(x):\n",
    "    return np.log(x / (1 - x))\n",
    "\n",
    "student_skill = logit(0.7)\n",
    "\n",
    "items = logit(np.array([0.4, 0.6, 0.8, 0.7]))  # difficulties\n",
    "\n",
    "\n",
    "fast_p = pp.normal.fast_p\n",
    "def likelihood(obs, item, skill): # IRT likelihood\n",
    "    return fast_p(obs - sigmoid(skill - item), mu=0.0, sigma=0.6)\n",
    "   \n",
    "    \n",
    "## IRT samples\n",
    "samples = 100\n",
    "obs, its = [], []\n",
    "for i in range(samples):  \n",
    "    item = items[np.random.randint(0, items.size)]\n",
    "    outcome = float(np.random.rand() < sigmoid(student_skill - item))\n",
    "\n",
    "    obs.append(outcome)\n",
    "    its.append(item)"
   ]
  },
  {
   "cell_type": "markdown",
   "metadata": {},
   "source": [
    "MCMC + Moment Matching\n",
    "---"
   ]
  },
  {
   "cell_type": "code",
   "execution_count": 3,
   "metadata": {},
   "outputs": [
    {
     "name": "stdout",
     "output_type": "stream",
     "text": [
      "observation 1.0 item 0.8 mode 0.7339889318635374\n",
      "observation 1.0 item 0.6 mode 0.7719069600877001\n",
      "observation 1.0 item 0.7 mode 0.8287788615879182\n",
      "observation 0.0 item 0.8 mode 0.8008250578329901\n",
      "observation 1.0 item 0.4 mode 0.8293684096605662\n",
      "observation 0.0 item 0.6 mode 0.8779442183275237\n",
      "observation 0.0 item 0.6 mode 0.8529397152841327\n",
      "observation 1.0 item 0.6 mode 0.8708276483290379\n",
      "observation 0.0 item 0.6 mode 0.8178713824384728\n",
      "observation 0.0 item 0.8 mode 0.795990327053084\n",
      "observation 1.0 item 0.8 mode 0.8388065855213576\n",
      "observation 1.0 item 0.8 mode 0.8708066308122976\n",
      "observation 0.0 item 0.6 mode 0.8898582949067646\n",
      "observation 0.0 item 0.8 mode 0.8510457151562363\n",
      "observation 1.0 item 0.4 mode 0.8505800233244247\n",
      "observation 1.0 item 0.6 mode 0.8759193667596842\n",
      "observation 0.0 item 0.4 mode 0.8419322694063648\n",
      "observation 0.0 item 0.8 mode 0.8284515968468291\n",
      "observation 1.0 item 0.8 mode 0.840052085252072\n",
      "observation 1.0 item 0.4 mode 0.8530815197887954\n",
      "observation 1.0 item 0.4 mode 0.8692240556260914\n",
      "observation 1.0 item 0.4 mode 0.8696394903898792\n",
      "observation 1.0 item 0.6 mode 0.8661466430091728\n",
      "observation 1.0 item 0.8 mode 0.8828353114247606\n",
      "observation 1.0 item 0.7 mode 0.8947062523632796\n",
      "observation 1.0 item 0.7 mode 0.9053113305861716\n",
      "observation 1.0 item 0.4 mode 0.9038591693780419\n",
      "observation 0.0 item 0.4 mode 0.9020215973511684\n",
      "observation 0.0 item 0.8 mode 0.89380782234244\n",
      "observation 1.0 item 0.6 mode 0.8992538927700603\n",
      "CPU times: user 21.2 s, sys: 40 ms, total: 21.2 s\n",
      "Wall time: 21.2 s\n"
     ]
    }
   ],
   "source": [
    "%%time\n",
    "\n",
    "\n",
    "prior_skill = pp.normal.med(mu=0.0, sigma=5)\n",
    "\n",
    "for i in range(samples)[:30]:\n",
    "    prior_skill = pp.parameter_posterior((obs[i], its[i]), likelihood=likelihood, prior=prior_skill,\n",
    "                                         mode=\"mcmc\", match_moments_for=pp.normal,\n",
    "                                         samples=20000, mixing=10000, batch=5, energy=0.1)\n",
    "        \n",
    "    \n",
    "    print(\"observation\", obs[i], \"item\", sigmoid(its[i]), \"mode\", sigmoid(pp.mode(prior_skill)))\n"
   ]
  },
  {
   "cell_type": "markdown",
   "metadata": {},
   "source": [
    "Search\n",
    "---"
   ]
  },
  {
   "cell_type": "code",
   "execution_count": 7,
   "metadata": {},
   "outputs": [
    {
     "name": "stdout",
     "output_type": "stream",
     "text": [
      "observation 1.0 item 0.8 mode [0.84559671]\n",
      "observation 1.0 item 0.6 mode [0.85488598]\n",
      "observation 1.0 item 0.7 mode [0.86590529]\n",
      "observation 0.0 item 0.8 mode [0.83819878]\n",
      "observation 1.0 item 0.4 mode [0.83750717]\n",
      "observation 0.0 item 0.6 mode [0.80366394]\n",
      "observation 0.0 item 0.6 mode [0.76456734]\n",
      "observation 1.0 item 0.6 mode [0.78273926]\n",
      "observation 0.0 item 0.6 mode [0.73684243]\n",
      "observation 0.0 item 0.8 mode [0.7093001]\n",
      "observation 1.0 item 0.8 mode [0.75373758]\n",
      "observation 1.0 item 0.8 mode [0.79069475]\n",
      "observation 0.0 item 0.6 mode [0.74213742]\n",
      "observation 0.0 item 0.8 mode [0.71955778]\n",
      "observation 1.0 item 0.4 mode [0.72735861]\n",
      "observation 1.0 item 0.6 mode [0.7503357]\n",
      "observation 0.0 item 0.4 mode [0.70214005]\n",
      "observation 0.0 item 0.8 mode [0.67802595]\n",
      "observation 1.0 item 0.8 mode [0.72682425]\n",
      "observation 1.0 item 0.4 mode [0.7377039]\n",
      "observation 1.0 item 0.4 mode [0.75198597]\n",
      "observation 1.0 item 0.4 mode [0.75640111]\n",
      "observation 1.0 item 0.6 mode [0.76595459]\n",
      "observation 1.0 item 0.8 mode [0.80777951]\n",
      "observation 1.0 item 0.7 mode [0.82619516]\n",
      "observation 1.0 item 0.7 mode [0.84084221]\n",
      "observation 1.0 item 0.4 mode [0.85090476]\n",
      "observation 0.0 item 0.4 mode [0.82112694]\n",
      "observation 0.0 item 0.8 mode [0.79927584]\n",
      "observation 1.0 item 0.6 mode [0.80553928]\n",
      "CPU times: user 12.6 s, sys: 28.3 ms, total: 12.6 s\n",
      "Wall time: 12.6 s\n"
     ]
    }
   ],
   "source": [
    "%%time\n",
    "\n",
    "\n",
    "prior_skill = pp.normal.med(mu=0.0, sigma=10)\n",
    "\n",
    "for i in range(samples)[:30]:\n",
    "    prior_skill = pp.parameter_posterior((obs[i], its[i]), \n",
    "                                         likelihood=likelihood, prior=prior_skill,\n",
    "                                         mode=\"search\",\n",
    "                                         samples=300, batch=5,\n",
    "                                         volume=100, energy=0.1,\n",
    "                                         variance=2.0)\n",
    "    \n",
    "    mode = sigmoid(pp.mode(prior_skill)[0])\n",
    "    print(\"observation\", obs[i], \"item\", sigmoid(its[i]), \"mode\", mode)"
   ]
  }
 ],
 "metadata": {
  "kernelspec": {
   "display_name": "Python 3",
   "language": "python",
   "name": "python3"
  },
  "language_info": {
   "codemirror_mode": {
    "name": "ipython",
    "version": 3
   },
   "file_extension": ".py",
   "mimetype": "text/x-python",
   "name": "python",
   "nbconvert_exporter": "python",
   "pygments_lexer": "ipython3",
   "version": "3.7.4"
  }
 },
 "nbformat": 4,
 "nbformat_minor": 4
}
