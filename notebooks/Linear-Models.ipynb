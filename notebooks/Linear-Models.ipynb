{
 "cells": [
  {
   "cell_type": "markdown",
   "metadata": {},
   "source": [
    "- [Linear Regression](#linear-regression)\n",
    "- [Logistic Regression + MCMC + Moment Matching](#Logistic-Regression-+-MCMC-+-Moment-Matching)\n",
    "- [Logistic Regression + MCMC](#Logistic-Regression-+-MCMC)\n",
    "- [Logistic Regression + Search](#Logistic-Regression-+-Search)"
   ]
  },
  {
   "cell_type": "code",
   "execution_count": 2,
   "metadata": {},
   "outputs": [],
   "source": [
    "import probpy as pp\n",
    "import numpy as np\n",
    "import numba\n",
    "import random"
   ]
  },
  {
   "cell_type": "code",
   "execution_count": 10,
   "metadata": {},
   "outputs": [],
   "source": [
    "def predict(w, x):\n",
    "     return x[:, 0] * w[0] + x[:, 1] * w[1] + x[:, 2] * w[2] + w[3]\n",
    "    \n",
    "w = [3, -2, 3, 5] # True underlying model\n",
    "\n",
    "x = np.random.rand(100, 3) * 10\n",
    "y = predict(w, x) + pp.normal.sample(mu=0, sigma=1, size=100).reshape(-1)\n",
    "\n",
    "def evaluate(y, w_approx, logistic=False):\n",
    "    print(\"Parameter Estimate\", w_approx)\n",
    "    if logistic:\n",
    "        print(\"Prior MSE\", np.square(y - sigmoid(predict(w_approx, x))).mean(), \n",
    "              \"True MSE\", np.square(y - sigmoid(predict(w, x))).mean())\n",
    "    else:\n",
    "        print(\"Prior MSE\", np.square(y - predict(w_approx, x)).mean(), \n",
    "              \"True MSE\", np.square(y - predict(w, x)).mean())\n",
    "    print()\n",
    "    "
   ]
  },
  {
   "cell_type": "markdown",
   "metadata": {},
   "source": [
    "linear regression\n",
    "---"
   ]
  },
  {
   "cell_type": "code",
   "execution_count": 7,
   "metadata": {},
   "outputs": [
    {
     "name": "stdout",
     "output_type": "stream",
     "text": [
      "Parameter Estimate [1.51137495 1.7541886  1.68767276 0.44634722]\n",
      "Prior MSE 160.09610767274725 True MSE 1.0150821032682253\n",
      "\n",
      "Parameter Estimate [ 3.18783209 -2.07891946  2.95295174  4.96388544]\n",
      "Prior MSE 1.426133861517623 True MSE 1.0150821032682253\n",
      "\n",
      "Parameter Estimate [ 2.98445459 -1.92944274  2.96760977  5.04758955]\n",
      "Prior MSE 1.0349532626790257 True MSE 1.0150821032682253\n",
      "\n",
      "Parameter Estimate [ 2.98457113 -2.00606468  2.91276408  5.70439822]\n",
      "Prior MSE 0.9969301762070326 True MSE 1.0150821032682253\n",
      "\n",
      "Parameter Estimate [ 2.97200017 -2.01138558  2.91654733  5.74757405]\n",
      "Prior MSE 0.9934653239552353 True MSE 1.0150821032682253\n",
      "\n",
      "Parameter Estimate [ 2.96792041 -1.98305111  2.93791647  5.49069112]\n",
      "Prior MSE 0.9844346927976906 True MSE 1.0150821032682253\n",
      "\n",
      "Parameter Estimate [ 2.97491081 -1.97157862  2.94495308  5.39196258]\n",
      "Prior MSE 0.9910344828832521 True MSE 1.0150821032682253\n",
      "\n",
      "Parameter Estimate [ 2.99384071 -1.98988805  2.95935343  5.2121785 ]\n",
      "Prior MSE 0.981181110376964 True MSE 1.0150821032682253\n",
      "\n",
      "Parameter Estimate [ 2.99519582 -1.99097054  2.94811222  5.20752027]\n",
      "Prior MSE 0.9822575497435061 True MSE 1.0150821032682253\n",
      "\n",
      "Parameter Estimate [ 3.00287177 -1.98117479  2.94180604  5.18460769]\n",
      "Prior MSE 0.9799194262412411 True MSE 1.0150821032682253\n",
      "\n",
      "CPU times: user 49.2 ms, sys: 84.5 ms, total: 134 ms\n",
      "Wall time: 33.2 ms\n"
     ]
    }
   ],
   "source": [
    "%%time\n",
    "\n",
    "prior = pp.multivariate_normal.med(mu=np.ones(4) * 0, sigma=np.eye(4) * 5)\n",
    "likelihood = pp.unilinear.med(sigma=1) # There exist an implementation for linear because it has a conjugate prior\n",
    "\n",
    "for i in range(100):\n",
    "    data = (y[i], x[i])\n",
    "    \n",
    "    prior = pp.parameter_posterior(data, likelihood=likelihood, prior=prior)\n",
    "    \n",
    "    if i % 10 == 0:\n",
    "        evaluate(y, pp.mode(prior))\n"
   ]
  },
  {
   "cell_type": "markdown",
   "metadata": {},
   "source": [
    "Logistic Regression things\n",
    "---"
   ]
  },
  {
   "cell_type": "code",
   "execution_count": 8,
   "metadata": {},
   "outputs": [],
   "source": [
    "@numba.jit(nopython=True, fastmath=True, forceobj=False)\n",
    "def sigmoid(x):\n",
    "    return (1 / (1 + np.exp(-x)))\n",
    "\n",
    "fast_p = pp.normal.fast_p # Need to assign here first since numba does not support jitting methods of classes\n",
    "\n",
    "def likelihood(y, x, w):\n",
    "    return fast_p(y - sigmoid(np.sum(x * w[:-1]) + w[-1]), mu=0.0, sigma=0.2)\n"
   ]
  },
  {
   "cell_type": "markdown",
   "metadata": {},
   "source": [
    "Logistic Regression + MCMC + Moment Matching\n",
    "---"
   ]
  },
  {
   "cell_type": "code",
   "execution_count": 11,
   "metadata": {},
   "outputs": [
    {
     "name": "stdout",
     "output_type": "stream",
     "text": [
      "Parameter Estimate [ 1.8556192   0.89805479  1.14121048 -0.73649219]\n",
      "Prior MSE 0.1303049165516874 True MSE 0.10531965500342082\n",
      "\n",
      "Parameter Estimate [ 2.85442252  0.83749109  1.3250087  -1.50933187]\n",
      "Prior MSE 0.1301079246674576 True MSE 0.10531965500342082\n",
      "\n",
      "Parameter Estimate [ 2.9605184   0.96696013  1.18212971 -1.61820646]\n",
      "Prior MSE 0.13016806437826442 True MSE 0.10531965500342082\n",
      "\n",
      "Parameter Estimate [ 3.75486136 -0.12518465  1.35139376 -1.16330702]\n",
      "Prior MSE 0.11659812831543404 True MSE 0.10531965500342082\n",
      "\n",
      "Parameter Estimate [ 3.57299666  0.08909493  1.36760802 -1.44033162]\n",
      "Prior MSE 0.12231543556899974 True MSE 0.10531965500342082\n",
      "\n",
      "Parameter Estimate [ 3.59308238  0.14841552  1.29437415 -1.57553887]\n",
      "Prior MSE 0.12378700489557908 True MSE 0.10531965500342082\n",
      "\n",
      "CPU times: user 15.7 s, sys: 19.3 ms, total: 15.7 s\n",
      "Wall time: 15.7 s\n"
     ]
    }
   ],
   "source": [
    "%%time\n",
    "\n",
    "\n",
    "logistic_y = sigmoid(y) + pp.normal.sample(mu=0, sigma=0.1, size=100).reshape(-1)\n",
    "    \n",
    "\n",
    "prior = pp.multivariate_normal.med(mu=np.zeros(4), sigma=np.eye(4) * 5)\n",
    "\n",
    "for i in range(6):\n",
    "    j = random.randint(0, 80)\n",
    "    data = (logistic_y[j: j + 20], x[j: j + 20])\n",
    "    \n",
    "    prior = pp.parameter_posterior(data, likelihood=likelihood, \n",
    "                                   prior=prior, \n",
    "                                   match_moments_for=pp.multivariate_normal,\n",
    "                                   batch=5,\n",
    "                                   samples=30000,\n",
    "                                   mixing=20000, \n",
    "                                   energy=0.1,\n",
    "                                   mode=\"mcmc\")\n",
    "\n",
    "    evaluate(logistic_y, pp.mode(prior), logistic=True)"
   ]
  },
  {
   "cell_type": "markdown",
   "metadata": {},
   "source": [
    "Logistic Regression + MCMC\n",
    "---"
   ]
  },
  {
   "cell_type": "code",
   "execution_count": 12,
   "metadata": {},
   "outputs": [
    {
     "name": "stdout",
     "output_type": "stream",
     "text": [
      "Parameter Estimate [0.75888751 1.01434056 0.53427073 0.36624556]\n",
      "Prior MSE 0.1133902962864118 True MSE 0.10465551586116453\n",
      "\n",
      "Parameter Estimate [ 1.23943062  3.55555258  1.31001354 -0.057735  ]\n",
      "Prior MSE 0.11335409862076753 True MSE 0.10465551586116453\n",
      "\n",
      "Parameter Estimate [2.36558342 1.23159724 2.42748257 0.44546576]\n",
      "Prior MSE 0.11334183371872636 True MSE 0.10465551586116453\n",
      "\n",
      "Parameter Estimate [1.70694765 0.68480743 2.18627895 1.17019537]\n",
      "Prior MSE 0.11332344473622578 True MSE 0.10465551586116453\n",
      "\n",
      "Parameter Estimate [2.17284036 0.315641   1.45677032 2.282372  ]\n",
      "Prior MSE 0.11328108457987791 True MSE 0.10465551586116453\n",
      "\n",
      "CPU times: user 25.6 s, sys: 136 ms, total: 25.7 s\n",
      "Wall time: 25.7 s\n"
     ]
    }
   ],
   "source": [
    "%%time\n",
    "\n",
    "logistic_y = sigmoid(y) + pp.normal.sample(mu=0, sigma=0.1, size=100).reshape(-1)\n",
    "prior = pp.multivariate_normal.med(mu=np.zeros(4), sigma=np.eye(4) * 5)\n",
    "\n",
    "for i in range(5):\n",
    "    data = (logistic_y, x)\n",
    "    \n",
    "    prior = pp.parameter_posterior(data, likelihood=likelihood, \n",
    "                                   prior=prior, \n",
    "                                   batch=5,\n",
    "                                   samples=5000,\n",
    "                                   mixing=100, \n",
    "                                   energy=0.3,\n",
    "                                   mode=\"mcmc\")\n",
    "\n",
    "    modes = pp.mode(prior) # modes are sorted in order first is largest\n",
    "    evaluate(logistic_y, pp.mode(prior)[0], logistic=True)\n",
    "  "
   ]
  },
  {
   "cell_type": "markdown",
   "metadata": {},
   "source": [
    "Logistic Regression + Search\n",
    "---\n"
   ]
  },
  {
   "cell_type": "code",
   "execution_count": 14,
   "metadata": {},
   "outputs": [
    {
     "name": "stdout",
     "output_type": "stream",
     "text": [
      "Parameter Estimate [ 0.81665096 -0.44990258  1.04562951  4.09053447]\n",
      "Prior MSE 0.1038146054100692 True MSE 0.10081423931262487\n",
      "\n",
      "Parameter Estimate [ 0.83130727 -0.58442009  0.59877811  4.37373957]\n",
      "Prior MSE 0.0998316213634307 True MSE 0.10081423931262487\n",
      "\n",
      "Parameter Estimate [ 1.11137488 -0.7704312   0.56447397  4.19699473]\n",
      "Prior MSE 0.09489611294118766 True MSE 0.10081423931262487\n",
      "\n",
      "Parameter Estimate [ 1.44694725 -0.78036595  0.501888    4.12751663]\n",
      "Prior MSE 0.09429105082554848 True MSE 0.10081423931262487\n",
      "\n",
      "Parameter Estimate [ 1.55059332 -0.79113241  0.45028324  4.31139962]\n",
      "Prior MSE 0.09423166234714586 True MSE 0.10081423931262487\n",
      "\n",
      "CPU times: user 4.44 s, sys: 0 ns, total: 4.44 s\n",
      "Wall time: 4.44 s\n"
     ]
    }
   ],
   "source": [
    "%%time\n",
    "    \n",
    "logistic_y = sigmoid(y) + pp.normal.sample(mu=0, sigma=0.1, size=100).reshape(-1)\n",
    "\n",
    "prior = pp.multivariate_normal.med(mu=np.zeros(4), sigma=np.eye(4) * 10)\n",
    "\n",
    "for i in range(5):\n",
    "    data = (logistic_y, x)\n",
    "    \n",
    "    prior = pp.parameter_posterior(data, likelihood=likelihood, \n",
    "                                   prior=prior, \n",
    "                                   batch=50,\n",
    "                                   samples=500,\n",
    "                                   energy=0.25,\n",
    "                                   mode=\"search\",\n",
    "                                   volume=100)\n",
    "\n",
    "    modes = pp.mode(prior) # modes are sorted in order first is largest\n",
    "    evaluate(logistic_y, pp.mode(prior)[0], logistic=True)\n",
    "  "
   ]
  }
 ],
 "metadata": {
  "kernelspec": {
   "display_name": "Python 3",
   "language": "python",
   "name": "python3"
  },
  "language_info": {
   "codemirror_mode": {
    "name": "ipython",
    "version": 3
   },
   "file_extension": ".py",
   "mimetype": "text/x-python",
   "name": "python",
   "nbconvert_exporter": "python",
   "pygments_lexer": "ipython3",
   "version": "3.7.4"
  }
 },
 "nbformat": 4,
 "nbformat_minor": 4
}
