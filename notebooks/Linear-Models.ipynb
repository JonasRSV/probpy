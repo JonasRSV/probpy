{
 "cells": [
  {
   "cell_type": "markdown",
   "metadata": {},
   "source": [
    "- [Linear Regression](#linear-regression)\n",
    "- [Logistic Regression + MCMC + Moment Matching](#Logistic-Regression-+-MCMC-+-Moment-Matching)\n",
    "- [Logistic Regression + MCMC](#Logistic-Regression-+-MCMC)\n",
    "- [Logistic Regression + Search](#Logistic-Regression-+-Search)"
   ]
  },
  {
   "cell_type": "code",
   "execution_count": 1,
   "metadata": {},
   "outputs": [],
   "source": [
    "import probpy as pp\n",
    "import numpy as np\n",
    "import numba\n",
    "import random"
   ]
  },
  {
   "cell_type": "markdown",
   "metadata": {},
   "source": [
    "linear regression\n",
    "---"
   ]
  },
  {
   "cell_type": "code",
   "execution_count": 2,
   "metadata": {},
   "outputs": [
    {
     "name": "stdout",
     "output_type": "stream",
     "text": [
      "Parameter Estimate [0.62945907 1.04030399 1.38943747 0.22187135]\n",
      "Prior MSE 236.14026486427062 True MSE 0.9295563918386928\n",
      "\n",
      "Parameter Estimate [ 5.03384098 -2.04242046  1.0458533   4.49254238]\n",
      "Prior MSE 1.1156529019110772 True MSE 0.9295563918386928\n",
      "\n",
      "Parameter Estimate [ 5.00171183 -2.10335714  1.05217679  5.25890319]\n",
      "Prior MSE 0.9547183417513909 True MSE 0.9295563918386928\n",
      "\n",
      "Parameter Estimate [ 4.94934162 -2.08692361  1.03290793  5.46006742]\n",
      "Prior MSE 0.8942972424078205 True MSE 0.9295563918386928\n",
      "\n",
      "Parameter Estimate [ 4.88098409 -2.04564108  0.98936908  5.68943923]\n",
      "Prior MSE 0.8946674022992412 True MSE 0.9295563918386928\n",
      "\n",
      "Parameter Estimate [ 4.90174701 -2.06784802  0.98461191  5.80234427]\n",
      "Prior MSE 0.8618938961334188 True MSE 0.9295563918386928\n",
      "\n",
      "Parameter Estimate [ 4.91712289 -2.07114437  0.9580543   5.9014963 ]\n",
      "Prior MSE 0.8525450886358604 True MSE 0.9295563918386928\n",
      "\n",
      "Parameter Estimate [ 4.92216242 -2.06329766  0.95407032  5.88746845]\n",
      "Prior MSE 0.848502279680264 True MSE 0.9295563918386928\n",
      "\n",
      "Parameter Estimate [ 4.92955116 -2.06345296  0.95133677  5.8356883 ]\n",
      "Prior MSE 0.8520920190549313 True MSE 0.9295563918386928\n",
      "\n",
      "Parameter Estimate [ 4.93365913 -2.05906546  0.96269633  5.78306772]\n",
      "Prior MSE 0.8447951272217162 True MSE 0.9295563918386928\n",
      "\n",
      "CPU times: user 270 ms, sys: 60 ms, total: 330 ms\n",
      "Wall time: 267 ms\n"
     ]
    }
   ],
   "source": [
    "%%time\n",
    "def predict(w, x):\n",
    "     return x[:, 0] * w[0] + x[:, 1] * w[1] + x[:, 2] * w[2] + w[3]\n",
    "\n",
    "w = [5, -2, 1, 5] # True underlying model\n",
    "x = np.random.rand(100, 3) * 10\n",
    "y = predict(w, x) + pp.normal.sample(mu=0, sigma=1, size=100).reshape(-1)\n",
    "\n",
    "\n",
    "\n",
    "prior = pp.multivariate_normal.med(mu=np.ones(4) * 0, sigma=np.eye(4) * 5)\n",
    "likelihood = pp.unilinear.med(sigma=1) # There exist an implementation for linear because it has a conjugate prior\n",
    "\n",
    "for i in range(100):\n",
    "    data = (y[i], x[i])\n",
    "    \n",
    "    prior = pp.parameter_posterior(data, likelihood=likelihood, prior=prior)\n",
    "    \n",
    "    if i % 10 == 0:\n",
    "        w_approx = pp.mode(prior)\n",
    "        print(\"Parameter Estimate\", w_approx)\n",
    "        \n",
    "        print(\"Prior MSE\", np.square(y - predict(w_approx, x)).mean(), \n",
    "              \"True MSE\", np.square(y - predict(w, x)).mean())\n",
    "        print()"
   ]
  },
  {
   "cell_type": "code",
   "execution_count": 3,
   "metadata": {},
   "outputs": [],
   "source": [
    "@numba.jit(nopython=True, fastmath=True, forceobj=False)\n",
    "def sigmoid(x):\n",
    "    return (1 / (1 + np.exp(-x)))\n",
    "\n",
    "fast_p = pp.normal.fast_p # Need to assign here first since numba does not support jitting methods of classes\n",
    "\n",
    "def likelihood(y, x, w):\n",
    "    return fast_p(y - sigmoid(np.sum(x * w[:-1]) + w[-1]), mu=0.0, sigma=1.0)\n",
    "\n",
    "def predict(w, x):\n",
    "     return x[:, 0] * w[0] + x[:, 1] * w[1] + x[:, 2] * w[2] + w[3]"
   ]
  },
  {
   "cell_type": "markdown",
   "metadata": {},
   "source": [
    "Logistic Regression + MCMC + Moment Matching\n",
    "---"
   ]
  },
  {
   "cell_type": "code",
   "execution_count": 4,
   "metadata": {},
   "outputs": [
    {
     "name": "stderr",
     "output_type": "stream",
     "text": [
      "/usr/local/lib/python3.7/site-packages/probpy-0.0.1-py3.7.egg/probpy/learn/posterior/common.py:61: NumbaPerformanceWarning: '@' is faster on contiguous arrays, called on (array(float64, 2d, C), readonly array(float64, 2d, A))\n"
     ]
    },
    {
     "name": "stdout",
     "output_type": "stream",
     "text": [
      "Parameter Estimate [-0.97009623  0.27894465  1.05471155 -0.28060688]\n",
      "Prior MSE 0.06349766407435388 True MSE 0.028442062980429297\n",
      "\n",
      "Parameter Estimate [-0.89313312  0.49276941  1.98401066 -0.75166448]\n",
      "Prior MSE 0.055511721564717925 True MSE 0.028442062980429297\n",
      "\n",
      "Parameter Estimate [-1.36706553  0.81945303  1.96599013 -0.91297171]\n",
      "Prior MSE 0.04191596831938002 True MSE 0.028442062980429297\n",
      "\n",
      "Parameter Estimate [-1.50176096  0.91431854  1.97971899 -1.00719531]\n",
      "Prior MSE 0.03954184849132962 True MSE 0.028442062980429297\n",
      "\n",
      "Parameter Estimate [-1.48843031  1.09389861  2.28148444 -1.23420324]\n",
      "Prior MSE 0.03641346380960732 True MSE 0.028442062980429297\n",
      "\n",
      "Parameter Estimate [-1.40940583  1.10857199  2.59032608 -1.42629829]\n",
      "Prior MSE 0.03560933710458337 True MSE 0.028442062980429297\n",
      "\n",
      "CPU times: user 21.9 s, sys: 64.4 ms, total: 21.9 s\n",
      "Wall time: 21.9 s\n"
     ]
    }
   ],
   "source": [
    "%%time\n",
    "\n",
    "\n",
    "\n",
    "    \n",
    "w = [-3, 3, 5, -3] # True underlying model\n",
    "\n",
    "x = np.random.rand(100, 3)\n",
    "y = sigmoid(predict(w, x) + pp.normal.sample(mu=0.0, sigma=1.0, size=100).reshape(-1))\n",
    "    \n",
    "\n",
    "prior = pp.multivariate_normal.med(mu=np.zeros(4), sigma=np.eye(4) * 5)\n",
    "\n",
    "for i in range(6):\n",
    "    j = random.randint(0, 80)\n",
    "    data = (y[j: j + 20], x[j: j + 20])\n",
    "    \n",
    "    prior = pp.parameter_posterior(data, likelihood=likelihood, \n",
    "                                   prior=prior, \n",
    "                                   match_moments_for=pp.multivariate_normal,\n",
    "                                   batch=5,\n",
    "                                   samples=50000,\n",
    "                                   mixing=5000, \n",
    "                                   energy=0.1,\n",
    "                                   mode=\"mcmc\")\n",
    "\n",
    "    w_approx = pp.mode(prior)\n",
    "    print(\"Parameter Estimate\", w_approx)\n",
    "\n",
    "    print(\"Prior MSE\", np.square(y - sigmoid(predict(w_approx, x))).mean(), \n",
    "          \"True MSE\", np.square(y - sigmoid(predict(w, x))).mean())\n",
    "    print()"
   ]
  },
  {
   "cell_type": "markdown",
   "metadata": {},
   "source": [
    "Logistic Regression + MCMC\n",
    "---"
   ]
  },
  {
   "cell_type": "code",
   "execution_count": 9,
   "metadata": {},
   "outputs": [
    {
     "name": "stdout",
     "output_type": "stream",
     "text": [
      "Number of modes 1\n",
      "Parameter Estimate [-0.40251571  1.63657293  2.64594073 -1.89631666]\n",
      "Prior MSE 0.043379478686802544 True MSE 0.029320377157292802\n",
      "\n",
      "Number of modes 1\n",
      "Parameter Estimate [-1.64726359  1.24265392  4.02096962 -2.03267843]\n",
      "Prior MSE 0.03318426198006277 True MSE 0.029320377157292802\n",
      "\n",
      "Number of modes 1\n",
      "Parameter Estimate [-1.59024907  1.82567696  4.04794259 -2.38693076]\n",
      "Prior MSE 0.030119804944745553 True MSE 0.029320377157292802\n",
      "\n",
      "Number of modes 1\n",
      "Parameter Estimate [-2.14826314  2.05129974  5.11420032 -2.44792898]\n",
      "Prior MSE 0.03274770047208002 True MSE 0.029320377157292802\n",
      "\n",
      "Number of modes 1\n",
      "Parameter Estimate [-2.67868997  2.6145071   5.67260813 -2.71680115]\n",
      "Prior MSE 0.03226325696568973 True MSE 0.029320377157292802\n",
      "\n",
      "CPU times: user 39.8 s, sys: 11.9 ms, total: 39.8 s\n",
      "Wall time: 39.8 s\n"
     ]
    }
   ],
   "source": [
    "%%time\n",
    "\n",
    "w = [-3, 3, 5, -3] # True underlying model\n",
    "\n",
    "x = np.random.rand(100, 3)\n",
    "y = sigmoid(predict(w, x) + pp.normal.sample(mu=0.0, sigma=1.0, size=100).reshape(-1))\n",
    "\n",
    "# For this we need custom likelihood since there is no conjugate prior\n",
    "\n",
    "    \n",
    "\n",
    "prior = pp.multivariate_normal.med(mu=np.zeros(4), sigma=np.eye(4) * 5)\n",
    "\n",
    "for i in range(5):\n",
    "    data = (y, x)\n",
    "    \n",
    "    prior = pp.parameter_posterior(data, likelihood=likelihood, \n",
    "                                   prior=prior, \n",
    "                                   batch=5,\n",
    "                                   samples=20000,\n",
    "                                   mixing=18000, \n",
    "                                   energy=0.3,\n",
    "                                   mode=\"mcmc\")\n",
    "\n",
    "    modes = pp.mode(prior) # modes are sorted in order first is largest\n",
    "\n",
    "    print(\"Number of modes\", len(modes))\n",
    "    w_approx = modes[0]\n",
    "\n",
    "    print(\"Parameter Estimate\", w_approx)\n",
    "\n",
    "    print(\"Prior MSE\", np.square(y - sigmoid(predict(w_approx, x))).mean(), \n",
    "          \"True MSE\", np.square(y - sigmoid(predict(w, x))).mean())\n",
    "    print()"
   ]
  },
  {
   "cell_type": "markdown",
   "metadata": {},
   "source": [
    "Logistic Regression + Search\n",
    "---\n"
   ]
  },
  {
   "cell_type": "code",
   "execution_count": 5,
   "metadata": {},
   "outputs": [
    {
     "name": "stdout",
     "output_type": "stream",
     "text": [
      "Number of modes 1\n",
      "[-1.69907879  1.35527693  2.60255812 -1.31164715]\n",
      "Parameter Estimate [-1.69907879  1.35527693  2.60255812 -1.31164715]\n",
      "Prior MSE 0.03183061146749331 True MSE 0.02340749888029968\n",
      "\n"
     ]
    },
    {
     "ename": "Exception",
     "evalue": "generic function did not have a numba probability",
     "output_type": "error",
     "traceback": [
      "\u001b[0;31m---------------------------------------------------------------------------\u001b[0m",
      "\u001b[0;31mException\u001b[0m                                 Traceback (most recent call last)",
      "\u001b[0;32m<timed exec>\u001b[0m in \u001b[0;36m<module>\u001b[0;34m\u001b[0m\n",
      "\u001b[0;32m/usr/local/lib/python3.7/site-packages/probpy-0.0.1-py3.7.egg/probpy/learn/posterior/posterior.py\u001b[0m in \u001b[0;36mparameter_posterior\u001b[0;34m(data, likelihood, prior, mode, **kwargs)\u001b[0m\n\u001b[1;32m     42\u001b[0m     \u001b[0;32mif\u001b[0m \u001b[0mmode\u001b[0m \u001b[0;34m==\u001b[0m \u001b[0;34m\"search\"\u001b[0m\u001b[0;34m:\u001b[0m\u001b[0;34m\u001b[0m\u001b[0;34m\u001b[0m\u001b[0m\n\u001b[1;32m     43\u001b[0m         return search(\n\u001b[0;32m---> 44\u001b[0;31m             \u001b[0mdata\u001b[0m\u001b[0;34m,\u001b[0m \u001b[0mlikelihood\u001b[0m\u001b[0;34m,\u001b[0m \u001b[0mprior\u001b[0m\u001b[0;34m,\u001b[0m \u001b[0;34m**\u001b[0m\u001b[0mkwargs\u001b[0m\u001b[0;34m\u001b[0m\u001b[0;34m\u001b[0m\u001b[0m\n\u001b[0m\u001b[1;32m     45\u001b[0m         )\n\u001b[1;32m     46\u001b[0m     \u001b[0;32melse\u001b[0m\u001b[0;34m:\u001b[0m\u001b[0;34m\u001b[0m\u001b[0;34m\u001b[0m\u001b[0m\n",
      "\u001b[0;32m/usr/local/lib/python3.7/site-packages/probpy-0.0.1-py3.7.egg/probpy/learn/posterior/search.py\u001b[0m in \u001b[0;36msearch\u001b[0;34m(data, likelihood, prior, samples, energy, batch, volume, normalize, density, **ubrk_args)\u001b[0m\n\u001b[1;32m     72\u001b[0m     \"\"\"\n\u001b[1;32m     73\u001b[0m \u001b[0;34m\u001b[0m\u001b[0m\n\u001b[0;32m---> 74\u001b[0;31m     \u001b[0msamples\u001b[0m\u001b[0;34m,\u001b[0m \u001b[0mdensities\u001b[0m \u001b[0;34m=\u001b[0m \u001b[0m_search_posterior\u001b[0m\u001b[0;34m(\u001b[0m\u001b[0mdata\u001b[0m\u001b[0;34m,\u001b[0m \u001b[0mlikelihood\u001b[0m\u001b[0;34m,\u001b[0m \u001b[0mprior\u001b[0m\u001b[0;34m,\u001b[0m \u001b[0msamples\u001b[0m\u001b[0;34m,\u001b[0m \u001b[0menergy\u001b[0m\u001b[0;34m,\u001b[0m \u001b[0mbatch\u001b[0m\u001b[0;34m,\u001b[0m \u001b[0mvolume\u001b[0m\u001b[0;34m)\u001b[0m\u001b[0;34m\u001b[0m\u001b[0;34m\u001b[0m\u001b[0m\n\u001b[0m\u001b[1;32m     75\u001b[0m \u001b[0;34m\u001b[0m\u001b[0m\n\u001b[1;32m     76\u001b[0m     \u001b[0;32mif\u001b[0m \u001b[0mdensity\u001b[0m \u001b[0;32mis\u001b[0m \u001b[0;32mNone\u001b[0m\u001b[0;34m:\u001b[0m\u001b[0;34m\u001b[0m\u001b[0;34m\u001b[0m\u001b[0m\n",
      "\u001b[0;32m/usr/local/lib/python3.7/site-packages/probpy-0.0.1-py3.7.egg/probpy/learn/posterior/search.py\u001b[0m in \u001b[0;36m_search_posterior\u001b[0;34m(data, likelihood, prior, samples, energy, batch, volume)\u001b[0m\n\u001b[1;32m     16\u001b[0m                       volume: float):\n\u001b[1;32m     17\u001b[0m     \u001b[0mfast_ll\u001b[0m \u001b[0;34m=\u001b[0m \u001b[0mjitted_likelihood\u001b[0m\u001b[0;34m(\u001b[0m\u001b[0mlikelihood\u001b[0m\u001b[0;34m)\u001b[0m\u001b[0;34m\u001b[0m\u001b[0;34m\u001b[0m\u001b[0m\n\u001b[0;32m---> 18\u001b[0;31m     \u001b[0mfast_p\u001b[0m \u001b[0;34m=\u001b[0m \u001b[0mjitted_prior\u001b[0m\u001b[0;34m(\u001b[0m\u001b[0mprior\u001b[0m\u001b[0;34m)\u001b[0m\u001b[0;34m\u001b[0m\u001b[0;34m\u001b[0m\u001b[0m\n\u001b[0m\u001b[1;32m     19\u001b[0m     \u001b[0mlog_likelihood\u001b[0m\u001b[0;34m,\u001b[0m \u001b[0mlog_prior\u001b[0m \u001b[0;34m=\u001b[0m \u001b[0mjit_log_probabilities\u001b[0m\u001b[0;34m(\u001b[0m\u001b[0mdata\u001b[0m\u001b[0;34m,\u001b[0m \u001b[0mfast_ll\u001b[0m\u001b[0;34m,\u001b[0m \u001b[0mfast_p\u001b[0m\u001b[0;34m)\u001b[0m\u001b[0;34m\u001b[0m\u001b[0;34m\u001b[0m\u001b[0m\n\u001b[1;32m     20\u001b[0m \u001b[0;34m\u001b[0m\u001b[0m\n",
      "\u001b[0;32m/usr/local/lib/python3.7/site-packages/probpy-0.0.1-py3.7.egg/probpy/learn/posterior/common.py\u001b[0m in \u001b[0;36mjitted_prior\u001b[0;34m(rv)\u001b[0m\n\u001b[1;32m     13\u001b[0m \u001b[0;34m\u001b[0m\u001b[0m\n\u001b[1;32m     14\u001b[0m \u001b[0;34m\u001b[0m\u001b[0m\n\u001b[0;32m---> 15\u001b[0;31m \u001b[0;32mdef\u001b[0m \u001b[0mjitted_prior\u001b[0m\u001b[0;34m(\u001b[0m\u001b[0mrv\u001b[0m\u001b[0;34m:\u001b[0m \u001b[0mRandomVariable\u001b[0m\u001b[0;34m)\u001b[0m\u001b[0;34m:\u001b[0m \u001b[0;32mreturn\u001b[0m \u001b[0mjit_probability\u001b[0m\u001b[0;34m(\u001b[0m\u001b[0mrv\u001b[0m\u001b[0;34m)\u001b[0m\u001b[0;34m\u001b[0m\u001b[0;34m\u001b[0m\u001b[0m\n\u001b[0m\u001b[1;32m     16\u001b[0m \u001b[0;34m\u001b[0m\u001b[0m\n\u001b[1;32m     17\u001b[0m \u001b[0;34m\u001b[0m\u001b[0m\n",
      "\u001b[0;32m/usr/local/lib/python3.7/site-packages/probpy-0.0.1-py3.7.egg/probpy/distributions/jit.py\u001b[0m in \u001b[0;36mjit_probability\u001b[0;34m(rv)\u001b[0m\n\u001b[1;32m      6\u001b[0m         \u001b[0;32mraise\u001b[0m \u001b[0mException\u001b[0m\u001b[0;34m(\u001b[0m\u001b[0;34mf\"{rv.cls} has not implemented jit_probability\"\u001b[0m\u001b[0;34m)\u001b[0m\u001b[0;34m\u001b[0m\u001b[0;34m\u001b[0m\u001b[0m\n\u001b[1;32m      7\u001b[0m \u001b[0;34m\u001b[0m\u001b[0m\n\u001b[0;32m----> 8\u001b[0;31m     \u001b[0;32mreturn\u001b[0m \u001b[0mrv\u001b[0m\u001b[0;34m.\u001b[0m\u001b[0mcls\u001b[0m\u001b[0;34m.\u001b[0m\u001b[0mjit_probability\u001b[0m\u001b[0;34m(\u001b[0m\u001b[0mrv\u001b[0m\u001b[0;34m)\u001b[0m\u001b[0;34m\u001b[0m\u001b[0;34m\u001b[0m\u001b[0m\n\u001b[0m\u001b[1;32m      9\u001b[0m \u001b[0;34m\u001b[0m\u001b[0m\n",
      "\u001b[0;32m/usr/local/lib/python3.7/site-packages/probpy-0.0.1-py3.7.egg/probpy/distributions/generic.py\u001b[0m in \u001b[0;36mjit_probability\u001b[0;34m(rv)\u001b[0m\n\u001b[1;32m     47\u001b[0m             \u001b[0;32mreturn\u001b[0m \u001b[0mfast_p\u001b[0m\u001b[0;34m\u001b[0m\u001b[0;34m\u001b[0m\u001b[0m\n\u001b[1;32m     48\u001b[0m         \u001b[0;32melse\u001b[0m\u001b[0;34m:\u001b[0m\u001b[0;34m\u001b[0m\u001b[0;34m\u001b[0m\u001b[0m\n\u001b[0;32m---> 49\u001b[0;31m             \u001b[0;32mraise\u001b[0m \u001b[0mException\u001b[0m\u001b[0;34m(\u001b[0m\u001b[0;34m\"generic function did not have a numba probability\"\u001b[0m\u001b[0;34m)\u001b[0m\u001b[0;34m\u001b[0m\u001b[0;34m\u001b[0m\u001b[0m\n\u001b[0m\u001b[1;32m     50\u001b[0m \u001b[0;34m\u001b[0m\u001b[0m\n",
      "\u001b[0;31mException\u001b[0m: generic function did not have a numba probability"
     ]
    }
   ],
   "source": [
    "%%time\n",
    "\n",
    "    \n",
    "w = [-3, 3, 5, -3] # True underlying model\n",
    "\n",
    "x = np.random.rand(100, 3)\n",
    "y = sigmoid(predict(w, x) + pp.normal.sample(mu=0.0, sigma=1.0, size=100).reshape(-1))\n",
    "\n",
    "    \n",
    "\n",
    "prior = pp.multivariate_normal.med(mu=np.zeros(4), sigma=np.eye(4) * 10)\n",
    "\n",
    "for i in range(5):\n",
    "    data = (y, x)\n",
    "    \n",
    "    prior = pp.parameter_posterior(data, likelihood=likelihood, \n",
    "                                   prior=prior, \n",
    "                                   batch=50,\n",
    "                                   samples=1000,\n",
    "                                   energy=0.25,\n",
    "                                   mode=\"search\",\n",
    "                                   volume=1000)\n",
    "\n",
    "    modes = pp.mode(prior) # modes are sorted in order first is largest\n",
    "\n",
    "    \n",
    "    print(\"Number of modes\", len(modes))\n",
    "    for mode in modes:\n",
    "        print(mode)\n",
    "\n",
    "    w_approx = modes[0]\n",
    "\n",
    "    print(\"Parameter Estimate\", w_approx)\n",
    "\n",
    "    print(\"Prior MSE\", np.square(y - sigmoid(predict(w_approx, x))).mean(), \n",
    "          \"True MSE\", np.square(y - sigmoid(predict(w, x))).mean())\n",
    "    print()"
   ]
  }
 ],
 "metadata": {
  "kernelspec": {
   "display_name": "Python 3",
   "language": "python",
   "name": "python3"
  },
  "language_info": {
   "codemirror_mode": {
    "name": "ipython",
    "version": 3
   },
   "file_extension": ".py",
   "mimetype": "text/x-python",
   "name": "python",
   "nbconvert_exporter": "python",
   "pygments_lexer": "ipython3",
   "version": "3.7.4"
  }
 },
 "nbformat": 4,
 "nbformat_minor": 4
}
